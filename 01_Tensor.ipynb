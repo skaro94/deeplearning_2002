{
 "cells": [
  {
   "cell_type": "markdown",
   "metadata": {},
   "source": [
    "# 01_Tensor\n",
    "In this notebook, we will see how to create and manipulate torch Tensors."
   ]
  },
  {
   "cell_type": "code",
   "execution_count": null,
   "metadata": {
    "ExecuteTime": {
     "end_time": "2017-08-07T06:25:48.811809Z",
     "start_time": "2017-08-07T06:25:48.323161Z"
    }
   },
   "outputs": [],
   "source": [
    "from __future__ import print_function\n",
    "import numpy as np\n",
    "import torch \n",
    "torch.manual_seed(1)"
   ]
  },
  {
   "cell_type": "markdown",
   "metadata": {},
   "source": [
    "## Tensor is a matrix!\n",
    "Tensors are similar to NumPy’s ndarrays, with the addition being that Tensors can also be used on a GPU to accelerate computing.\n",
    "\n",
    "- 0-D Tensor: scalar\n",
    "- 1-D Tensor: vector\n",
    "- 2-D Tensor: matrix\n",
    "- 3-D Tensor: tensor\n",
    "- 4-D Tensor: tensor...\n",
    "\n",
    "Tensors can be created with the following function:<br />\n",
    "`torch.tensor(data, dtype=None, device=None, requires_grad=False)`\n",
    "\n",
    "- `data`: initial data for the tensor\n",
    "- `dtype`: the desired data type of returned tensor\n",
    "- `device`: the desired device of returned tensor\n",
    "- `requires_grad`: if autograd should record operations on the returned tensor (later on)"
   ]
  },
  {
   "cell_type": "code",
   "execution_count": null,
   "metadata": {
    "scrolled": true
   },
   "outputs": [],
   "source": [
    "scalar = torch.tensor(3) # scalar\n",
    "vector = torch.tensor([3]) # vector\n",
    "print(scalar, vector)"
   ]
  },
  {
   "cell_type": "code",
   "execution_count": null,
   "metadata": {},
   "outputs": [],
   "source": [
    "print(scalar.size(), vector.size()) # scalar is 0-dimensional"
   ]
  },
  {
   "cell_type": "code",
   "execution_count": null,
   "metadata": {},
   "outputs": [],
   "source": [
    "print(scalar.item()) # get the Python number from a scalar."
   ]
  },
  {
   "cell_type": "code",
   "execution_count": null,
   "metadata": {
    "ExecuteTime": {
     "end_time": "2017-08-07T06:25:49.903875Z",
     "start_time": "2017-08-07T06:25:49.890816Z"
    },
    "scrolled": true
   },
   "outputs": [],
   "source": [
    "x = torch.tensor([[1,2],[3,4]]) # 2D Tensor\n",
    "print(x)"
   ]
  },
  {
   "cell_type": "code",
   "execution_count": null,
   "metadata": {
    "ExecuteTime": {
     "end_time": "2017-08-07T06:25:50.515647Z",
     "start_time": "2017-08-07T06:25:50.505238Z"
    }
   },
   "outputs": [],
   "source": [
    "y = torch.tensor([[[1,2,3],[4,5,6],[7,8,9]],[[1,2,3],[4,5,6],[7,8,9]],[[1,2,3],[4,5,6],[7,8,9]]]) # 3D Tensor\n",
    "print(y)"
   ]
  },
  {
   "cell_type": "markdown",
   "metadata": {},
   "source": [
    "### torch.dtype\n",
    "Below is a complete list of available torch.dtypes (data types) and their corresponding tensor types.\n",
    "<img src=\"images/dtype.png\" width=\"500\">"
   ]
  },
  {
   "cell_type": "code",
   "execution_count": null,
   "metadata": {
    "scrolled": true
   },
   "outputs": [],
   "source": [
    "y.dtype # infers data type from data"
   ]
  },
  {
   "cell_type": "markdown",
   "metadata": {},
   "source": [
    "### torch.device"
   ]
  },
  {
   "cell_type": "code",
   "execution_count": null,
   "metadata": {},
   "outputs": [],
   "source": [
    "y.device"
   ]
  },
  {
   "cell_type": "code",
   "execution_count": null,
   "metadata": {
    "scrolled": true
   },
   "outputs": [],
   "source": [
    "use_cuda = torch.cuda.is_available()\n",
    "device = torch.device(\"cuda\" if use_cuda else \"cpu\")\n",
    "device"
   ]
  },
  {
   "cell_type": "markdown",
   "metadata": {},
   "source": [
    "### torch.Size"
   ]
  },
  {
   "cell_type": "code",
   "execution_count": null,
   "metadata": {},
   "outputs": [],
   "source": [
    "print(y.size(), y.shape, y.numel())"
   ]
  },
  {
   "cell_type": "markdown",
   "metadata": {
    "ExecuteTime": {
     "end_time": "2017-08-03T12:34:51.726159Z",
     "start_time": "2017-08-03T12:34:51.718763Z"
    }
   },
   "source": [
    "## A few other methods to create a Tensor\n",
    "There are some other tensor-creation operations\n",
    "<img src=\"images/creation_ops.png\" width=\"700\">"
   ]
  },
  {
   "cell_type": "code",
   "execution_count": null,
   "metadata": {
    "ExecuteTime": {
     "end_time": "2017-08-07T06:25:51.175067Z",
     "start_time": "2017-08-07T06:25:51.165429Z"
    }
   },
   "outputs": [],
   "source": [
    "print(torch.ones(3,3), torch.zeros(3,3), torch.eye(3,3), torch.rand(3,3), torch.randn(3,3), sep='\\n')"
   ]
  },
  {
   "cell_type": "code",
   "execution_count": null,
   "metadata": {
    "ExecuteTime": {
     "end_time": "2017-08-07T06:25:51.655449Z",
     "start_time": "2017-08-07T06:25:51.648961Z"
    }
   },
   "outputs": [],
   "source": [
    "print(torch.arange(0, 3, step=0.5)) # This is Vector, Not a Matrix, Don't Get Confused"
   ]
  },
  {
   "cell_type": "code",
   "execution_count": null,
   "metadata": {
    "ExecuteTime": {
     "end_time": "2017-08-07T06:25:52.530553Z",
     "start_time": "2017-08-07T06:25:52.522735Z"
    }
   },
   "outputs": [],
   "source": [
    "x = np.array([[5,6],[7,8]])\n",
    "x_torch = torch.from_numpy(x) # Converting a NumPy arraty to a Torch tensor\n",
    "x_numpy = x_torch.numpy() # Converting a Torch tensor to a NumPy array\n",
    "print(x_torch, x_numpy, sep='\\n')"
   ]
  },
  {
   "cell_type": "code",
   "execution_count": null,
   "metadata": {},
   "outputs": [],
   "source": [
    "x = torch.tensor([5.5, 3])\n",
    "print(x)\n",
    "\n",
    "x = x.new_ones(5, 3)      # new_* methods take in sizes\n",
    "print(x)\n",
    "\n",
    "x = torch.randn_like(x, dtype=torch.float)    # override dtype!\n",
    "print(x)                                      # result has the same size"
   ]
  },
  {
   "cell_type": "markdown",
   "metadata": {},
   "source": [
    "## Slicing, Concatenating, and Masking Tensor\n",
    "PyTorch supports NumPy-style tensor indexing."
   ]
  },
  {
   "cell_type": "code",
   "execution_count": null,
   "metadata": {
    "ExecuteTime": {
     "end_time": "2017-08-07T06:25:53.241768Z",
     "start_time": "2017-08-07T06:25:53.231854Z"
    }
   },
   "outputs": [],
   "source": [
    "x = torch.tensor([[1,1,1],[2,2,2],[3,3,3]])\n",
    "print(x)\n",
    "\n",
    "print(x[0:2,:])\n",
    "\n",
    "print(x[0:3,0])\n",
    "\n",
    "x[0,:] = torch.tensor([0,0,0])\n",
    "print(x)"
   ]
  },
  {
   "cell_type": "code",
   "execution_count": null,
   "metadata": {
    "ExecuteTime": {
     "end_time": "2017-08-07T06:25:53.908358Z",
     "start_time": "2017-08-07T06:25:53.901740Z"
    },
    "scrolled": true
   },
   "outputs": [],
   "source": [
    "split_x = torch.split(x, 1, dim=0) # Return Tuple of splited tesnors\n",
    "print(split_x)\n",
    "\n",
    "print(split_x[0].size())"
   ]
  },
  {
   "cell_type": "code",
   "execution_count": null,
   "metadata": {
    "ExecuteTime": {
     "end_time": "2017-08-07T06:25:54.257571Z",
     "start_time": "2017-08-07T06:25:54.250946Z"
    }
   },
   "outputs": [],
   "source": [
    "split_cat = torch.cat(split_x, dim=0) # concatentae Tensor\n",
    "split_stack = torch.stack(split_x, dim=1) # concatenate Tensor with New dimenstion\n",
    "print(split_cat, split_stack, sep='\\n')\n",
    "\n",
    "print(split_cat.size(), split_stack.size(), sep='\\n')"
   ]
  },
  {
   "cell_type": "code",
   "execution_count": null,
   "metadata": {
    "ExecuteTime": {
     "end_time": "2017-08-07T06:25:54.970773Z",
     "start_time": "2017-08-07T06:25:54.957336Z"
    }
   },
   "outputs": [],
   "source": [
    "# torch.masked_select(input, mask)\n",
    "\n",
    "x = torch.randn(2,3)\n",
    "\n",
    "mask = torch.ByteTensor([[0,0,1],[0,1,0]])\n",
    "\n",
    "out = torch.masked_select(x,mask) # Extracting Values with ByteType Index Tensor\n",
    "\n",
    "print(x, mask, out, sep='\\n')"
   ]
  },
  {
   "cell_type": "markdown",
   "metadata": {
    "ExecuteTime": {
     "end_time": "2017-08-03T13:05:51.955648Z",
     "start_time": "2017-08-03T13:05:51.948906Z"
    }
   },
   "source": [
    "## Reshaping on Dimension of Tensor"
   ]
  },
  {
   "cell_type": "code",
   "execution_count": null,
   "metadata": {
    "ExecuteTime": {
     "end_time": "2017-08-07T06:25:55.730362Z",
     "start_time": "2017-08-07T06:25:55.716130Z"
    }
   },
   "outputs": [],
   "source": [
    "x  = torch.zeros(2, 1, 2)\n",
    "print(x)"
   ]
  },
  {
   "cell_type": "code",
   "execution_count": null,
   "metadata": {
    "ExecuteTime": {
     "end_time": "2017-08-07T06:25:56.118363Z",
     "start_time": "2017-08-07T06:25:56.111824Z"
    }
   },
   "outputs": [],
   "source": [
    "y = x.view(2,2) # Reahspe Tensor with view funciton\n",
    "print(y, y.size(), sep='\\n')"
   ]
  },
  {
   "cell_type": "code",
   "execution_count": null,
   "metadata": {
    "ExecuteTime": {
     "end_time": "2017-08-07T06:25:56.526879Z",
     "start_time": "2017-08-07T06:25:56.519886Z"
    }
   },
   "outputs": [],
   "source": [
    "y = x.view(-1) # -1 is special \"Don't Care\" symbol \n",
    "print(y, y.size(), sep='\\n')"
   ]
  },
  {
   "cell_type": "code",
   "execution_count": null,
   "metadata": {
    "ExecuteTime": {
     "end_time": "2017-08-07T06:25:56.899686Z",
     "start_time": "2017-08-07T06:25:56.892614Z"
    }
   },
   "outputs": [],
   "source": [
    "y = x.view(-1,4)\n",
    "print(y, y.size(), sep='\\n')"
   ]
  },
  {
   "cell_type": "code",
   "execution_count": null,
   "metadata": {},
   "outputs": [],
   "source": [
    "y = x.reshape(-1) # -1 is special \"Don't Care\" symbol \n",
    "print(y, y.size(), sep='\\n')\n",
    "y = x.reshape(-1,4)\n",
    "print(y, y.size(), sep='\\n')"
   ]
  },
  {
   "cell_type": "code",
   "execution_count": null,
   "metadata": {},
   "outputs": [],
   "source": [
    "y = x.squeeze()  # remove dimension of 1 \n",
    "print(y, y.size(), sep='\\n')"
   ]
  },
  {
   "cell_type": "code",
   "execution_count": null,
   "metadata": {
    "ExecuteTime": {
     "end_time": "2017-08-07T06:25:57.326572Z",
     "start_time": "2017-08-07T06:25:57.319798Z"
    }
   },
   "outputs": [],
   "source": [
    "y.unsqueeze_(1)  # insert dimension of 1 / the methods with the tailing '_' are in-place functions\n",
    "print(y, y.size(), sep='\\n')"
   ]
  },
  {
   "cell_type": "markdown",
   "metadata": {},
   "source": [
    "## Tensor Operations"
   ]
  },
  {
   "cell_type": "markdown",
   "metadata": {},
   "source": [
    "### Arthmetic Operations\n",
    "PyTorch supports NumPy-style tensor operations"
   ]
  },
  {
   "cell_type": "code",
   "execution_count": null,
   "metadata": {
    "ExecuteTime": {
     "end_time": "2017-08-07T06:25:58.504661Z",
     "start_time": "2017-08-07T06:25:58.491969Z"
    }
   },
   "outputs": [],
   "source": [
    "x1 = torch.tensor([[1,2,3],[4,5,6]], dtype=torch.float)\n",
    "x2 = torch.tensor([[1,2,3],[4,5,6]], dtype=torch.float)\n",
    "print(x1, x2, sep='\\n')"
   ]
  },
  {
   "cell_type": "code",
   "execution_count": null,
   "metadata": {},
   "outputs": [],
   "source": [
    "print(x1 + x2 , x1.add(x2), torch.add(x1,x2), sep='\\n')"
   ]
  },
  {
   "cell_type": "code",
   "execution_count": null,
   "metadata": {
    "ExecuteTime": {
     "end_time": "2017-08-07T06:25:59.151399Z",
     "start_time": "2017-08-07T06:25:59.144094Z"
    }
   },
   "outputs": [],
   "source": [
    "print(x1 * x2, x1.mul(x2), torch.mul(x1,x2), sep='\\n') # Element-wise multiplication"
   ]
  },
  {
   "cell_type": "code",
   "execution_count": null,
   "metadata": {},
   "outputs": [],
   "source": [
    "print(x1 % 2,  x1 / 2, sep='\\n')"
   ]
  },
  {
   "cell_type": "code",
   "execution_count": null,
   "metadata": {
    "ExecuteTime": {
     "end_time": "2017-08-07T06:25:59.375870Z",
     "start_time": "2017-08-07T06:25:59.369448Z"
    }
   },
   "outputs": [],
   "source": [
    "print(x1 + 10, x1 * 10, sep='\\n') # broadingcasting"
   ]
  },
  {
   "cell_type": "markdown",
   "metadata": {},
   "source": [
    "### Other useful math operations"
   ]
  },
  {
   "cell_type": "code",
   "execution_count": null,
   "metadata": {
    "ExecuteTime": {
     "end_time": "2017-08-07T06:25:59.910756Z",
     "start_time": "2017-08-07T06:25:59.902649Z"
    }
   },
   "outputs": [],
   "source": [
    "print(x1.pow(2), torch.pow(x1,2), x1**2, sep='\\n') # elementwise Power operation"
   ]
  },
  {
   "cell_type": "code",
   "execution_count": null,
   "metadata": {},
   "outputs": [],
   "source": [
    "# element-wise square root / logarithm to the base e, 10, 2\n",
    "print(x1.sqrt(), x1.log(), x1.log10(), x1.log2(), sep='\\n')"
   ]
  },
  {
   "cell_type": "code",
   "execution_count": null,
   "metadata": {
    "ExecuteTime": {
     "end_time": "2017-08-07T06:26:00.586876Z",
     "start_time": "2017-08-07T06:26:00.578939Z"
    }
   },
   "outputs": [],
   "source": [
    "# summation / maximum / minimum / mean / standard deviation / absolute value\n",
    "print(x1.sum(), x1.max(), x1.min(), x1.mean(), x1.std(), x1.abs(), sep='\\n')"
   ]
  },
  {
   "cell_type": "code",
   "execution_count": null,
   "metadata": {
    "ExecuteTime": {
     "end_time": "2017-08-07T06:26:00.789320Z",
     "start_time": "2017-08-07T06:26:00.781938Z"
    }
   },
   "outputs": [],
   "source": [
    "value_along_row, index_along_row = x1.max(dim=0) # Find maximum index in the Tensor\n",
    "value_along_column, index_along_column = x1.max(dim=1)\n",
    "print(value_along_row, index_along_row)\n",
    "print(value_along_column, index_along_column)"
   ]
  },
  {
   "cell_type": "markdown",
   "metadata": {},
   "source": [
    "### Matrix operations"
   ]
  },
  {
   "cell_type": "code",
   "execution_count": null,
   "metadata": {
    "ExecuteTime": {
     "end_time": "2017-08-07T06:26:01.201823Z",
     "start_time": "2017-08-07T06:26:01.184287Z"
    }
   },
   "outputs": [],
   "source": [
    "# torch.mm(mat1, mat2) -> matrix multiplication\n",
    "\n",
    "mm_x1 = torch.randn(3,4)\n",
    "mm_x2 = torch.randn(4,5)\n",
    "\n",
    "print(torch.mm(mm_x1,mm_x2), mm_x1.mm(mm_x2), sep='\\n')"
   ]
  },
  {
   "cell_type": "code",
   "execution_count": null,
   "metadata": {
    "ExecuteTime": {
     "end_time": "2017-08-07T06:26:01.394828Z",
     "start_time": "2017-08-07T06:26:01.383884Z"
    }
   },
   "outputs": [],
   "source": [
    "# torch.mv(mat1, vector) -> matrix vector multiplication\n",
    "\n",
    "mv_x = torch.randn(3,4)\n",
    "mv_v = torch.randn(4)\n",
    "\n",
    "print(torch.mv(mv_x,mv_v), mv_x.mv(mv_v), sep='\\n')"
   ]
  },
  {
   "cell_type": "code",
   "execution_count": null,
   "metadata": {
    "ExecuteTime": {
     "end_time": "2017-08-07T06:26:01.629750Z",
     "start_time": "2017-08-07T06:26:01.619859Z"
    },
    "scrolled": true
   },
   "outputs": [],
   "source": [
    "# torch.bmm(batch1, batch2) -> batch matrix multiplication\n",
    "\n",
    "bmm_x1 = torch.randn(10,3,4)\n",
    "bmm_x2 = torch.randn(10,4,5)\n",
    "\n",
    "print(torch.bmm(bmm_x1,bmm_x2).size())"
   ]
  },
  {
   "cell_type": "code",
   "execution_count": null,
   "metadata": {
    "ExecuteTime": {
     "end_time": "2017-08-07T06:26:01.882026Z",
     "start_time": "2017-08-07T06:26:01.871531Z"
    }
   },
   "outputs": [],
   "source": [
    "# torch.dot(tensor1,tensor2) -> dot product of two tensor\n",
    "\n",
    "dot_x1 = torch.tensor([1,2,3,4])\n",
    "dot_x2 = torch.tensor([1,1,1,1])\n",
    "\n",
    "print(torch.dot(dot_x1, dot_x2))"
   ]
  },
  {
   "cell_type": "code",
   "execution_count": null,
   "metadata": {},
   "outputs": [],
   "source": [
    "# torch.matmul(tensor1,tensor2) -> all of the above\n",
    "print(torch.matmul(mm_x1,mm_x2))\n",
    "print(torch.matmul(mv_x,mv_v))\n",
    "print(torch.matmul(bmm_x1,bmm_x2).size())\n",
    "print(torch.matmul(dot_x1, dot_x2))"
   ]
  },
  {
   "cell_type": "code",
   "execution_count": null,
   "metadata": {
    "ExecuteTime": {
     "end_time": "2017-08-07T06:26:02.082024Z",
     "start_time": "2017-08-07T06:26:02.073480Z"
    }
   },
   "outputs": [],
   "source": [
    "# torch.t(matrix) -> transposed matrix\n",
    "\n",
    "x1 = torch.randn(3,4)\n",
    "\n",
    "print(x1, x1.t(), sep='\\n')"
   ]
  },
  {
   "cell_type": "code",
   "execution_count": null,
   "metadata": {},
   "outputs": [],
   "source": [
    "# torch.transpose(matrix, axis1, axis2) -> transposed tensor\n",
    "print(x1, x1.transpose(0, 1), sep='\\n')\n",
    "\n",
    "x2 = torch.randn(3,4,5)\n",
    "\n",
    "print(x2.size(), x2.transpose(1, 2).size(), sep='\\n')"
   ]
  },
  {
   "cell_type": "code",
   "execution_count": null,
   "metadata": {
    "ExecuteTime": {
     "end_time": "2017-08-07T06:26:02.304739Z",
     "start_time": "2017-08-07T06:26:02.290349Z"
    }
   },
   "outputs": [],
   "source": [
    "a = torch.Tensor([[8.79,  6.11, -9.15,  9.57, -3.49,  9.84],\n",
    "                  [9.93,  6.91, -7.93,  1.64,  4.02,  0.15],\n",
    "                  [9.83,  5.04,  4.86,  8.83,  9.80, -8.99],\n",
    "                  [5.45, -0.27,  4.85,  0.74, 10.00, -6.02],\n",
    "                  [3.16,  7.98,  3.01,  5.80,  4.27, -5.31]]).t()\n",
    "print(a, a.size(), sep='\\n')"
   ]
  },
  {
   "cell_type": "code",
   "execution_count": null,
   "metadata": {
    "ExecuteTime": {
     "end_time": "2017-08-07T06:26:02.498952Z",
     "start_time": "2017-08-07T06:26:02.490591Z"
    }
   },
   "outputs": [],
   "source": [
    "u, s, v = torch.svd(a) # singular value decomposition\n",
    "print(u, s, v, sep='\\n')\n",
    "print(u.size(), s.size(), v.size())"
   ]
  },
  {
   "cell_type": "code",
   "execution_count": null,
   "metadata": {
    "ExecuteTime": {
     "end_time": "2017-08-07T06:26:02.749028Z",
     "start_time": "2017-08-07T06:26:02.741997Z"
    },
    "scrolled": true
   },
   "outputs": [],
   "source": [
    "# Returns the p-norm of (first argument - second argument)\n",
    "print(torch.dist(a, torch.matmul(torch.matmul(u, torch.diag(s)), v.t())))"
   ]
  }
 ],
 "metadata": {
  "kernelspec": {
   "display_name": "Python 3",
   "language": "python",
   "name": "python3"
  },
  "language_info": {
   "codemirror_mode": {
    "name": "ipython",
    "version": 3
   },
   "file_extension": ".py",
   "mimetype": "text/x-python",
   "name": "python",
   "nbconvert_exporter": "python",
   "pygments_lexer": "ipython3",
   "version": "3.8.3"
  }
 },
 "nbformat": 4,
 "nbformat_minor": 4
}
